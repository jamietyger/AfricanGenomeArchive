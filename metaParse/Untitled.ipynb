{
 "cells": [
  {
   "cell_type": "code",
   "execution_count": 4,
   "metadata": {},
   "outputs": [],
   "source": [
    "import csv\n",
    "with open(\"testfile_metadata.csv\") as f:\n",
    "    reader = csv.DictReader(f)\n",
    "    data = [r for r in reader]"
   ]
  },
  {
   "cell_type": "code",
   "execution_count": 5,
   "metadata": {},
   "outputs": [
    {
     "data": {
      "text/plain": [
       "{'Additional Metadata': 'tb culture:TB culture;tb culture mgit:MTB isolated;tb culture 7h11:MTB isolated;phenotype:XDR-TB;microscopy ziehl-neelsen:None;microscopy auramine:None;microscopy smear status:Negative;lineage:Not tested',\n",
       " 'Altitude': '',\n",
       " 'AntiMicrobial Resistance': 'Resistant;Susceptible',\n",
       " 'AntiMicrobial Resistance Evidence': 'AMR Panel',\n",
       " 'Assembly Accession': 'GCA_000659205.1',\n",
       " 'Assembly Method': 'allpaths v. R47129',\n",
       " 'BioProject Accession': 'PRJNA190927',\n",
       " 'BioSample Accession': 'SAMN01925614',\n",
       " 'Biovar': '',\n",
       " 'Body Sample Site': '',\n",
       " 'Body Sample Subsite': '',\n",
       " 'Cell Shape': '',\n",
       " 'Chromosomes': '',\n",
       " 'Collection Date': '2010',\n",
       " 'Comments': 'TB-ARC - KRITH',\n",
       " 'Completion Date': '2014-04-29T00:00:00Z',\n",
       " 'Contigs': '6',\n",
       " 'Culture Collection': '',\n",
       " 'Date Inserted': '2014-12-08T22:12:18.339Z',\n",
       " 'Date Modified': '2015-03-16T03:17:09.594Z',\n",
       " 'Depth': '',\n",
       " 'Disease': '',\n",
       " 'GC Content': '65.6',\n",
       " 'GenBank Accessions': 'JMBG00000000',\n",
       " 'Genome ID': '1295720.3',\n",
       " 'Genome Length': '4405060',\n",
       " 'Genome Name': 'Mycobacterium tuberculosis TKK_02_0004',\n",
       " 'Genome Status': 'WGS',\n",
       " 'Geographic Location': 'South Africa: King George V Hospital, Durban',\n",
       " 'Gram Stain': '',\n",
       " 'Habitat': '',\n",
       " 'Host Age': '44',\n",
       " 'Host Gender': 'Female',\n",
       " 'Host Health': '',\n",
       " 'Host Name': 'Human, Homo sapiens',\n",
       " 'Isolation Comments': '',\n",
       " 'Isolation Country': 'South Africa',\n",
       " 'Isolation Site': '',\n",
       " 'Isolation Source': 'sputum',\n",
       " 'Latitude': '',\n",
       " 'Longitude': '',\n",
       " 'MLST': '',\n",
       " 'Motility': '',\n",
       " 'NCBI Taxon ID': '1295720',\n",
       " 'Optimal Temperature': '',\n",
       " 'Organism Name': 'Mycobacterium tuberculosis TKK_02_0004',\n",
       " 'Other Clinical': 'host_subject_id:37;treatment course:adm;co-morbidity:HIV Negative;previous tb treatment:Yes;previous mdr-tx:Yes;previous drug susceptible tb tx:Yes',\n",
       " 'Other Environmental': '',\n",
       " 'Other Typing': '',\n",
       " 'Oxygen Requirement': '',\n",
       " 'PATRIC CDS': '4351',\n",
       " 'Pathovar': '',\n",
       " 'Plasmids': '',\n",
       " 'Publication': '',\n",
       " 'RefSeq Accessions': '-',\n",
       " 'RefSeq CDS': '4007',\n",
       " 'SRA Accession': 'SRR833173,SRR924205',\n",
       " 'Salinity': '',\n",
       " 'Sequencing Centers': 'Broad Institute',\n",
       " 'Sequencing Depth': '189.0x',\n",
       " 'Sequencing Platform': 'Illumina',\n",
       " 'Sequencing Status': 'WGS',\n",
       " 'Serovar': '',\n",
       " 'Sporulation': '',\n",
       " 'Strain': 'TKK_02_0004',\n",
       " 'Temperature Range': '',\n",
       " 'Type Strain': ''}"
      ]
     },
     "execution_count": 5,
     "metadata": {},
     "output_type": "execute_result"
    }
   ],
   "source": [
    "data[0]"
   ]
  },
  {
   "cell_type": "code",
   "execution_count": null,
   "metadata": {
    "collapsed": true
   },
   "outputs": [],
   "source": []
  }
 ],
 "metadata": {
  "kernelspec": {
   "display_name": "Python 3",
   "language": "python",
   "name": "python3"
  },
  "language_info": {
   "codemirror_mode": {
    "name": "ipython",
    "version": 3
   },
   "file_extension": ".py",
   "mimetype": "text/x-python",
   "name": "python",
   "nbconvert_exporter": "python",
   "pygments_lexer": "ipython3",
   "version": "3.5.2"
  }
 },
 "nbformat": 4,
 "nbformat_minor": 2
}
